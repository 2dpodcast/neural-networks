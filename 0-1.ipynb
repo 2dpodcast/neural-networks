{
 "cells": [
  {
   "cell_type": "code",
   "execution_count": 1,
   "metadata": {
    "collapsed": false
   },
   "outputs": [],
   "source": [
    "import numpy as np\n",
    "import pandas as pd\n",
    "from time import time\n",
    "from sklearn.preprocessing import StandardScaler\n",
    "\n",
    "np.random.seed(1337)\n",
    "\n",
    "df = pd.read_csv('titanic.csv')"
   ]
  },
  {
   "cell_type": "code",
   "execution_count": 2,
   "metadata": {
    "collapsed": true
   },
   "outputs": [],
   "source": [
    "df_train = df.iloc[:712, :]\n",
    "\n",
    "df_train = df_train.drop(['Name', 'Ticket', 'Cabin', 'Embarked'], axis=1)\n",
    "\n",
    "age_mean = df_train['Age'].mean()\n",
    "df_train['Age'] = df_train['Age'].fillna(age_mean)\n",
    "df_train['Sex'] = df_train['Sex'].map({'female': 0, 'male': 1}).astype(int)\n",
    "\n",
    "scaler = StandardScaler()\n",
    "\n",
    "X_train = scaler.fit_transform(df_train.iloc[:, 2:].values)\n",
    "y_train = pd.get_dummies(df_train['Survived']).values"
   ]
  },
  {
   "cell_type": "code",
   "execution_count": 3,
   "metadata": {
    "collapsed": false
   },
   "outputs": [],
   "source": [
    "df_test = df.iloc[712:, :]\n",
    "\n",
    "df_test = df_test.drop(['Name', 'Ticket', 'Cabin', 'Embarked'], axis=1)\n",
    "\n",
    "df_test['Age'] = df_test['Age'].fillna(age_mean)\n",
    "df_test['Sex'] = df_test['Sex'].map({'female': 0, 'male': 1}).astype(int)\n",
    "\n",
    "X_test = scaler.transform(df_test.iloc[:, 2:].values)\n",
    "y_test = pd.get_dummies(df_test['Survived']).values"
   ]
  },
  {
   "cell_type": "code",
   "execution_count": 4,
   "metadata": {
    "collapsed": false
   },
   "outputs": [
    {
     "name": "stdout",
     "output_type": "stream",
     "text": [
      "accuracy 0.832402234637\n"
     ]
    }
   ],
   "source": [
    "from sklearn.ensemble import RandomForestClassifier\n",
    "\n",
    "model = RandomForestClassifier(random_state=0)\n",
    "model = model.fit(X_train, df_train['Survived'].values)\n",
    "\n",
    "y_prediction = model.predict(X_test)\n",
    "print \"accuracy\", np.sum(y_prediction == df_test['Survived'].values) / float(len(y_test))"
   ]
  },
  {
   "cell_type": "code",
   "execution_count": 5,
   "metadata": {
    "collapsed": false
   },
   "outputs": [
    {
     "name": "stderr",
     "output_type": "stream",
     "text": [
      "Using TensorFlow backend.\n"
     ]
    },
    {
     "name": "stdout",
     "output_type": "stream",
     "text": [
      "Epoch 1/10\n",
      "712/712 [==============================] - 0s - loss: 0.6828 - acc: 0.7191     \n",
      "Epoch 2/10\n",
      "712/712 [==============================] - 0s - loss: 0.6620 - acc: 0.7233     \n",
      "Epoch 3/10\n",
      "712/712 [==============================] - 0s - loss: 0.6441 - acc: 0.7317     \n",
      "Epoch 4/10\n",
      "712/712 [==============================] - 0s - loss: 0.6266 - acc: 0.7360     \n",
      "Epoch 5/10\n",
      "712/712 [==============================] - 0s - loss: 0.6108 - acc: 0.7444     \n",
      "Epoch 6/10\n",
      "712/712 [==============================] - 0s - loss: 0.5967 - acc: 0.7472     \n",
      "Epoch 7/10\n",
      "712/712 [==============================] - 0s - loss: 0.5840 - acc: 0.7584     \n",
      "Epoch 8/10\n",
      "712/712 [==============================] - 0s - loss: 0.5732 - acc: 0.7626     \n",
      "Epoch 9/10\n",
      "712/712 [==============================] - 0s - loss: 0.5623 - acc: 0.7640     \n",
      "Epoch 10/10\n",
      "712/712 [==============================] - 0s - loss: 0.5530 - acc: 0.7612     \n"
     ]
    },
    {
     "data": {
      "text/plain": [
       "<keras.callbacks.History at 0x112d1b350>"
      ]
     },
     "execution_count": 5,
     "metadata": {},
     "output_type": "execute_result"
    }
   ],
   "source": [
    "from keras.models import Sequential\n",
    "from keras.layers import Dense, Activation\n",
    "\n",
    "model = Sequential()\n",
    "model.add(Dense(input_dim=6, output_dim=2))\n",
    "model.add(Activation(\"softmax\"))\n",
    "\n",
    "model.compile(loss='categorical_crossentropy', optimizer='sgd', metrics=['accuracy'])\n",
    "\n",
    "model.fit(X_train, y_train)"
   ]
  },
  {
   "cell_type": "code",
   "execution_count": 6,
   "metadata": {
    "collapsed": false
   },
   "outputs": [
    {
     "name": "stdout",
     "output_type": "stream",
     "text": [
      "\r",
      " 32/179 [====>.........................] - ETA: 0s"
     ]
    },
    {
     "data": {
      "text/plain": [
       "[0.42110488301548876, 0.8268156454549821]"
      ]
     },
     "execution_count": 6,
     "metadata": {},
     "output_type": "execute_result"
    }
   ],
   "source": [
    "model.evaluate(X_test, y_test)"
   ]
  },
  {
   "cell_type": "code",
   "execution_count": 7,
   "metadata": {
    "collapsed": false
   },
   "outputs": [
    {
     "name": "stdout",
     "output_type": "stream",
     "text": [
      "Epoch 1/10\n",
      "712/712 [==============================] - 0s - loss: 0.5915 - acc: 0.7514     \n",
      "Epoch 2/10\n",
      "712/712 [==============================] - 0s - loss: 0.5325 - acc: 0.7626     \n",
      "Epoch 3/10\n",
      "712/712 [==============================] - 0s - loss: 0.5006 - acc: 0.7851     \n",
      "Epoch 4/10\n",
      "712/712 [==============================] - 0s - loss: 0.4844 - acc: 0.7893     \n",
      "Epoch 5/10\n",
      "712/712 [==============================] - 0s - loss: 0.4747 - acc: 0.7823     \n",
      "Epoch 6/10\n",
      "712/712 [==============================] - 0s - loss: 0.4691 - acc: 0.7865     \n",
      "Epoch 7/10\n",
      "712/712 [==============================] - 0s - loss: 0.4655 - acc: 0.7865     \n",
      "Epoch 8/10\n",
      "712/712 [==============================] - 0s - loss: 0.4627 - acc: 0.7879     \n",
      "Epoch 9/10\n",
      "712/712 [==============================] - 0s - loss: 0.4606 - acc: 0.7851     \n",
      "Epoch 10/10\n",
      "712/712 [==============================] - 0s - loss: 0.4595 - acc: 0.7893     \n"
     ]
    },
    {
     "data": {
      "text/plain": [
       "<keras.callbacks.History at 0x112e937d0>"
      ]
     },
     "execution_count": 7,
     "metadata": {},
     "output_type": "execute_result"
    }
   ],
   "source": [
    "model = Sequential()\n",
    "model.add(Dense(input_dim=6, output_dim=100))\n",
    "model.add(Dense(output_dim=2))\n",
    "model.add(Activation(\"softmax\"))\n",
    "\n",
    "model.compile(loss='categorical_crossentropy', optimizer='sgd', metrics=['accuracy'])\n",
    "\n",
    "model.fit(X_train, y_train)"
   ]
  },
  {
   "cell_type": "code",
   "execution_count": 8,
   "metadata": {
    "collapsed": false
   },
   "outputs": [
    {
     "name": "stdout",
     "output_type": "stream",
     "text": [
      "\r",
      " 32/179 [====>.........................] - ETA: 0s"
     ]
    },
    {
     "data": {
      "text/plain": [
       "[0.40941294911187454, 0.8268156431240743]"
      ]
     },
     "execution_count": 8,
     "metadata": {},
     "output_type": "execute_result"
    }
   ],
   "source": [
    "model.evaluate(X_test, y_test)"
   ]
  },
  {
   "cell_type": "code",
   "execution_count": 9,
   "metadata": {
    "collapsed": false
   },
   "outputs": [
    {
     "name": "stdout",
     "output_type": "stream",
     "text": [
      "Epoch 1/10\n",
      "712/712 [==============================] - 0s - loss: 0.5742 - acc: 0.7346     \n",
      "Epoch 2/10\n",
      "712/712 [==============================] - 0s - loss: 0.5061 - acc: 0.7669     \n",
      "Epoch 3/10\n",
      "712/712 [==============================] - 0s - loss: 0.4809 - acc: 0.7781     \n",
      "Epoch 4/10\n",
      "712/712 [==============================] - 0s - loss: 0.4696 - acc: 0.7907     \n",
      "Epoch 5/10\n",
      "712/712 [==============================] - 0s - loss: 0.4646 - acc: 0.7865     \n",
      "Epoch 6/10\n",
      "712/712 [==============================] - 0s - loss: 0.4618 - acc: 0.7865     \n",
      "Epoch 7/10\n",
      "712/712 [==============================] - 0s - loss: 0.4599 - acc: 0.7893     \n",
      "Epoch 8/10\n",
      "712/712 [==============================] - 0s - loss: 0.4591 - acc: 0.7879     \n",
      "Epoch 9/10\n",
      "712/712 [==============================] - 0s - loss: 0.4588 - acc: 0.7865     \n",
      "Epoch 10/10\n",
      "712/712 [==============================] - 0s - loss: 0.4585 - acc: 0.7893     \n"
     ]
    },
    {
     "data": {
      "text/plain": [
       "<keras.callbacks.History at 0x1135c0d10>"
      ]
     },
     "execution_count": 9,
     "metadata": {},
     "output_type": "execute_result"
    }
   ],
   "source": [
    "model = Sequential()\n",
    "model.add(Dense(input_dim=6, output_dim=100))\n",
    "model.add(Dense(output_dim=100))\n",
    "model.add(Dense(output_dim=2))\n",
    "model.add(Activation(\"softmax\"))\n",
    "\n",
    "model.compile(loss='categorical_crossentropy', optimizer='sgd', metrics=['accuracy'])\n",
    "\n",
    "model.fit(X_train, y_train)"
   ]
  },
  {
   "cell_type": "code",
   "execution_count": 10,
   "metadata": {
    "collapsed": false
   },
   "outputs": [
    {
     "name": "stdout",
     "output_type": "stream",
     "text": [
      "\r",
      " 32/179 [====>.........................] - ETA: 0s"
     ]
    },
    {
     "data": {
      "text/plain": [
       "[0.39541927845784408, 0.82681564079316638]"
      ]
     },
     "execution_count": 10,
     "metadata": {},
     "output_type": "execute_result"
    }
   ],
   "source": [
    "model.evaluate(X_test, y_test)"
   ]
  },
  {
   "cell_type": "code",
   "execution_count": null,
   "metadata": {
    "collapsed": true
   },
   "outputs": [],
   "source": []
  }
 ],
 "metadata": {
  "kernelspec": {
   "display_name": "Python 2",
   "language": "python",
   "name": "python2"
  },
  "language_info": {
   "codemirror_mode": {
    "name": "ipython",
    "version": 2
   },
   "file_extension": ".py",
   "mimetype": "text/x-python",
   "name": "python",
   "nbconvert_exporter": "python",
   "pygments_lexer": "ipython2",
   "version": "2.7.10"
  }
 },
 "nbformat": 4,
 "nbformat_minor": 0
}
