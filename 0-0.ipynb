{
 "cells": [
  {
   "cell_type": "code",
   "execution_count": 1,
   "metadata": {
    "collapsed": false
   },
   "outputs": [],
   "source": [
    "import numpy as np\n",
    "import pandas as pd\n",
    "from time import time\n",
    "from sklearn.preprocessing import StandardScaler\n",
    "\n",
    "np.random.seed(1337)\n",
    "\n",
    "df = pd.read_csv('titanic.csv')"
   ]
  },
  {
   "cell_type": "code",
   "execution_count": 2,
   "metadata": {
    "collapsed": true
   },
   "outputs": [],
   "source": [
    "df_train = df.iloc[:712, :]\n",
    "\n",
    "df_train = df_train.drop(['Name', 'Ticket', 'Cabin', 'Embarked'], axis=1)\n",
    "\n",
    "age_mean = df_train['Age'].mean()\n",
    "df_train['Age'] = df_train['Age'].fillna(age_mean)\n",
    "df_train['Sex'] = df_train['Sex'].map({'female': 0, 'male': 1}).astype(int)\n",
    "\n",
    "scaler = StandardScaler()\n",
    "\n",
    "X_train = scaler.fit_transform(df_train.iloc[:, 2:].values)\n",
    "y_train = df_train['Survived'].values"
   ]
  },
  {
   "cell_type": "code",
   "execution_count": 3,
   "metadata": {
    "collapsed": false
   },
   "outputs": [],
   "source": [
    "df_test = df.iloc[712:, :]\n",
    "\n",
    "df_test = df_test.drop(['Name', 'Ticket', 'Cabin', 'Embarked'], axis=1)\n",
    "\n",
    "df_test['Age'] = df_test['Age'].fillna(age_mean)\n",
    "df_test['Sex'] = df_test['Sex'].map({'female': 0, 'male': 1}).astype(int)\n",
    "\n",
    "X_test = scaler.transform(df_test.iloc[:, 2:].values)\n",
    "y_test = df_test['Survived'].values"
   ]
  },
  {
   "cell_type": "code",
   "execution_count": 4,
   "metadata": {
    "collapsed": false
   },
   "outputs": [
    {
     "name": "stdout",
     "output_type": "stream",
     "text": [
      "accuracy 0.832402234637\n"
     ]
    }
   ],
   "source": [
    "from sklearn.ensemble import RandomForestClassifier\n",
    "\n",
    "model = RandomForestClassifier(random_state=0)\n",
    "model = model.fit(X_train, y_train)\n",
    "\n",
    "y_prediction = model.predict(X_test)\n",
    "print \"accuracy\", np.sum(y_prediction == y_test) / float(len(y_test))"
   ]
  },
  {
   "cell_type": "code",
   "execution_count": 5,
   "metadata": {
    "collapsed": true
   },
   "outputs": [],
   "source": [
    "def softmax(x):\n",
    "    return np.exp(x) / np.exp(x).sum()"
   ]
  },
  {
   "cell_type": "code",
   "execution_count": 6,
   "metadata": {
    "collapsed": false
   },
   "outputs": [
    {
     "name": "stdout",
     "output_type": "stream",
     "text": [
      "accuracy 0.292, loop 0\n",
      "accuracy 0.64, loop 1\n",
      "accuracy 0.642, loop 2\n",
      "accuracy 0.695, loop 6\n",
      "accuracy 0.712, loop 9\n",
      "accuracy 0.737, loop 45\n",
      "accuracy 0.739, loop 48\n",
      "accuracy 0.754, loop 56\n",
      "accuracy 0.794, loop 88\n",
      "\n",
      "time taken 8.15364694595 seconds\n"
     ]
    }
   ],
   "source": [
    "max_accuracy = 0\n",
    "best_weights = ()\n",
    "\n",
    "start = time()\n",
    "\n",
    "for i in xrange(1000):\n",
    "    W = np.random.rand(2, 6)\n",
    "    b = np.random.rand(2,)\n",
    "    y_prediction = []\n",
    "\n",
    "    for j in xrange(X_train.shape[0]):\n",
    "        result = np.dot(W, X_train[j]) + b\n",
    "        result = softmax(result)\n",
    "        result = np.argmax(result)\n",
    "        y_prediction.append(result)\n",
    "\n",
    "    y_prediction = np.array(y_prediction)\n",
    "    accuracy = np.sum(y_prediction == y_train) / float(len(y_train))\n",
    "    \n",
    "    if accuracy > max_accuracy:\n",
    "        print 'accuracy %s, loop %s' % (round(accuracy, 3), i)\n",
    "        max_accuracy = accuracy\n",
    "        best_weights = (W, b)\n",
    "\n",
    "print '\\ntime taken %s seconds' % str(time() - start)"
   ]
  },
  {
   "cell_type": "code",
   "execution_count": 7,
   "metadata": {
    "collapsed": false
   },
   "outputs": [
    {
     "name": "stdout",
     "output_type": "stream",
     "text": [
      "0.815642458101\n"
     ]
    }
   ],
   "source": [
    "W, b = best_weights\n",
    "y_prediction = []\n",
    "\n",
    "for j in xrange(X_test.shape[0]):\n",
    "    result = np.dot(W, X_test[j]) + b\n",
    "    result = softmax(result)\n",
    "    result = np.argmax(result)\n",
    "    y_prediction.append(result)\n",
    "\n",
    "y_prediction = np.array(y_prediction)\n",
    "\n",
    "print np.sum(y_prediction == y_test) / float(len(y_test))"
   ]
  },
  {
   "cell_type": "code",
   "execution_count": 8,
   "metadata": {
    "collapsed": false
   },
   "outputs": [
    {
     "name": "stdout",
     "output_type": "stream",
     "text": [
      "accuracy 0.566, loop 0\n",
      "accuracy 0.604, loop 1\n",
      "accuracy 0.712, loop 2\n",
      "accuracy 0.739, loop 6\n",
      "accuracy 0.75, loop 30\n",
      "accuracy 0.756, loop 61\n",
      "accuracy 0.785, loop 91\n",
      "accuracy 0.789, loop 185\n",
      "accuracy 0.796, loop 709\n",
      "\n",
      "time taken 8.62996792793 seconds\n"
     ]
    }
   ],
   "source": [
    "max_accuracy = 0\n",
    "best_weights = ()\n",
    "\n",
    "start = time()\n",
    "\n",
    "for i in xrange(1000):\n",
    "    W_1 = np.random.rand(100, 6)\n",
    "    b_1 = np.random.rand(100,)\n",
    "\n",
    "    W_2 = np.random.rand(2, 100)\n",
    "    b_2 = np.random.rand(2,)   \n",
    "    y_prediction = []\n",
    "\n",
    "    for j in xrange(X_train.shape[0]):\n",
    "        result = np.dot(W_1, X_train[j]) + b_1\n",
    "        result = np.dot(W_2, result) + b_2\n",
    "        result = softmax(result)\n",
    "        result = np.argmax(result)\n",
    "        y_prediction.append(result)\n",
    "\n",
    "    y_prediction = np.array(y_prediction)\n",
    "    accuracy = np.sum(y_prediction == y_train) / float(len(y_train))\n",
    "    \n",
    "    if accuracy > max_accuracy:\n",
    "        print 'accuracy %s, loop %s' % (round(accuracy, 3), i)\n",
    "        max_accuracy = accuracy\n",
    "        best_weights = (W_1, b_1, W_2, b_2)\n",
    "\n",
    "print '\\ntime taken %s seconds' % str(time() - start)"
   ]
  },
  {
   "cell_type": "code",
   "execution_count": 9,
   "metadata": {
    "collapsed": false
   },
   "outputs": [
    {
     "name": "stdout",
     "output_type": "stream",
     "text": [
      "0.804469273743\n"
     ]
    }
   ],
   "source": [
    "W_1, b_1, W_2, b_2 = best_weights\n",
    "y_prediction = []\n",
    "\n",
    "for j in xrange(X_test.shape[0]):\n",
    "    result = np.dot(W_1, X_test[j]) + b_1\n",
    "    result = np.dot(W_2, result) + b_2\n",
    "    result = softmax(result)\n",
    "    result = np.argmax(result)\n",
    "    y_prediction.append(result)\n",
    "\n",
    "y_prediction = np.array(y_prediction)\n",
    "\n",
    "print np.sum(y_prediction == y_test) / float(len(y_test))"
   ]
  },
  {
   "cell_type": "code",
   "execution_count": 10,
   "metadata": {
    "collapsed": false
   },
   "outputs": [
    {
     "name": "stdout",
     "output_type": "stream",
     "text": [
      "accuracy 0.579, loop 0\n",
      "accuracy 0.608, loop 1\n",
      "accuracy 0.617, loop 2\n",
      "accuracy 0.625, loop 17\n",
      "accuracy 0.635, loop 18\n",
      "accuracy 0.636, loop 73\n",
      "accuracy 0.643, loop 79\n",
      "accuracy 0.656, loop 419\n",
      "\n",
      "time taken 12.0794928074 seconds\n"
     ]
    }
   ],
   "source": [
    "max_accuracy = 0\n",
    "best_weights = ()\n",
    "\n",
    "start = time()\n",
    "\n",
    "for i in xrange(1000):\n",
    "    W_1 = np.random.rand(100, 6)\n",
    "    b_1 = np.random.rand(100,)\n",
    "\n",
    "    W_2 = np.random.rand(100, 100)\n",
    "    b_2 = np.random.rand(100,)\n",
    "    \n",
    "    W_3 = np.random.rand(2, 100)\n",
    "    b_3 = np.random.rand(2,)\n",
    "    y_prediction = []\n",
    "\n",
    "    for j in xrange(X_train.shape[0]):\n",
    "        result = np.dot(W_1, X_train[j]) + b_1\n",
    "        result = np.dot(W_2, result) + b_2\n",
    "        result = np.dot(W_3, result) + b_3\n",
    "        result = softmax(result)\n",
    "        result = np.argmax(result)\n",
    "        y_prediction.append(result)\n",
    "\n",
    "    y_prediction = np.array(y_prediction)\n",
    "    accuracy = np.sum(y_prediction == y_train) / float(len(y_train))\n",
    "    \n",
    "    if accuracy > max_accuracy:\n",
    "        print 'accuracy %s, loop %s' % (round(accuracy, 3), i)\n",
    "        max_accuracy = accuracy\n",
    "        best_weights = (W_1, b_1, W_2, b_2, W_3, b_3)\n",
    "\n",
    "print '\\ntime taken %s seconds' % str(time() - start)"
   ]
  },
  {
   "cell_type": "code",
   "execution_count": 11,
   "metadata": {
    "collapsed": false
   },
   "outputs": [
    {
     "name": "stdout",
     "output_type": "stream",
     "text": [
      "0.631284916201\n"
     ]
    }
   ],
   "source": [
    "W_1, b_1, W_2, b_2, W_3, b_3 = best_weights\n",
    "y_prediction = []\n",
    "\n",
    "for j in xrange(X_test.shape[0]):\n",
    "    result = np.dot(W_1, X_test[j]) + b_1\n",
    "    result = np.dot(W_2, result) + b_2\n",
    "    result = np.dot(W_3, result) + b_3    \n",
    "    result = softmax(result)\n",
    "    result = np.argmax(result)\n",
    "    y_prediction.append(result)\n",
    "\n",
    "y_prediction = np.array(y_prediction)\n",
    "\n",
    "print np.sum(y_prediction == y_test) / float(len(y_test))"
   ]
  }
 ],
 "metadata": {
  "kernelspec": {
   "display_name": "Python 2",
   "language": "python",
   "name": "python2"
  },
  "language_info": {
   "codemirror_mode": {
    "name": "ipython",
    "version": 2
   },
   "file_extension": ".py",
   "mimetype": "text/x-python",
   "name": "python",
   "nbconvert_exporter": "python",
   "pygments_lexer": "ipython2",
   "version": "2.7.10"
  }
 },
 "nbformat": 4,
 "nbformat_minor": 0
}
