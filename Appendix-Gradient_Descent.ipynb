{
 "cells": [
  {
   "cell_type": "markdown",
   "metadata": {},
   "source": [
    "# Appendix - Gradient Descent"
   ]
  },
  {
   "cell_type": "markdown",
   "metadata": {},
   "source": [
    "We've been using gradient descent for model training. In this section we'll discuss briefly how it works. For simplicity, we'll focus only on the features Sex and Fare."
   ]
  },
  {
   "cell_type": "code",
   "execution_count": 1,
   "metadata": {
    "collapsed": false
   },
   "outputs": [],
   "source": [
    "import numpy as np\n",
    "import pandas as pd\n",
    "from sklearn.preprocessing import StandardScaler\n",
    "from time import time\n",
    "\n",
    "np.random.seed(1337)\n",
    "\n",
    "df = pd.read_csv('data/titanic.csv')"
   ]
  },
  {
   "cell_type": "code",
   "execution_count": 2,
   "metadata": {
    "collapsed": true
   },
   "outputs": [],
   "source": [
    "df_train = df.iloc[:712, :]\n",
    "\n",
    "df_train = df_train.drop(['Name', 'Ticket', 'Cabin', 'Embarked'], axis=1)\n",
    "\n",
    "age_mean = df_train['Age'].mean()\n",
    "df_train['Age'] = df_train['Age'].fillna(age_mean)\n",
    "df_train['Sex'] = df_train['Sex'].map({'female': 0, 'male': 1}).astype(int)\n",
    "\n",
    "scaler = StandardScaler()\n",
    "features = ['Sex', 'Fare']\n",
    "\n",
    "X_train = scaler.fit_transform(df_train[features].values)\n",
    "y_train = df_train['Survived'].values\n",
    "y_train_onehot = pd.get_dummies(df_train['Survived']).values"
   ]
  },
  {
   "cell_type": "code",
   "execution_count": 3,
   "metadata": {
    "collapsed": false
   },
   "outputs": [],
   "source": [
    "df_test = df.iloc[712:, :]\n",
    "\n",
    "df_test = df_test.drop(['Name', 'Ticket', 'Cabin', 'Embarked'], axis=1)\n",
    "\n",
    "df_test['Age'] = df_test['Age'].fillna(age_mean)\n",
    "df_test['Sex'] = df_test['Sex'].map({'female': 0, 'male': 1}).astype(int)\n",
    "\n",
    "X_test = scaler.transform(df_test[features].values)\n",
    "y_test = df_test['Survived'].values"
   ]
  },
  {
   "cell_type": "code",
   "execution_count": 4,
   "metadata": {
    "collapsed": true
   },
   "outputs": [],
   "source": [
    "def softmax(x):\n",
    "    return np.exp(x) / np.exp(x).sum()"
   ]
  },
  {
   "cell_type": "markdown",
   "metadata": {},
   "source": [
    "Instead of using the random matrix we started with, we make slight adjustments to the weights at every step. We track the values for the weights and biases at the start and end, and evaluate model accuracy at these points."
   ]
  },
  {
   "cell_type": "code",
   "execution_count": 5,
   "metadata": {
    "collapsed": false
   },
   "outputs": [],
   "source": [
    "min_loss = 1000\n",
    "best_weights = ()\n",
    "\n",
    "W = np.random.rand(2, 2) / 10\n",
    "b = np.random.rand(2,) / 10\n",
    "\n",
    "scores = []\n",
    "loss = 0\n",
    "\n",
    "W_start = W\n",
    "b_start = b\n",
    "metrics = []\n",
    "\n",
    "for j in xrange(X_train.shape[0]):\n",
    "    result = np.dot(W, X_train[j]) + b        \n",
    "    W = W - 0.001 * np.dot((result - y_train_onehot[j]).reshape(2,1), X_train[j].reshape(1,2))\n",
    "        \n",
    "    result = softmax(result)\n",
    "    scores.append(list(result))\n",
    "        \n",
    "    label_index = np.argmax(y_train_onehot[j])\n",
    "    loss += -np.log(result[label_index])\n",
    "    \n",
    "    metrics.append([W[1, 0], W[1, 1], loss/(j+1)])\n",
    "    \n",
    "W_end = W\n",
    "b_end = b\n",
    "metrics = np.array(metrics)"
   ]
  },
  {
   "cell_type": "code",
   "execution_count": 6,
   "metadata": {
    "collapsed": false
   },
   "outputs": [],
   "source": [
    "def accuracy(W, b):\n",
    "    scores = []\n",
    "\n",
    "    for j in xrange(X_test.shape[0]):\n",
    "        result = np.dot(W, X_test[j]) + b\n",
    "        result = softmax(result)\n",
    "        scores.append(list(result))\n",
    "\n",
    "    y_prediction = np.argmax(np.array(scores), axis=1)\n",
    "    return np.sum(y_prediction == y_test) / float(len(y_test))"
   ]
  },
  {
   "cell_type": "code",
   "execution_count": 7,
   "metadata": {
    "collapsed": false
   },
   "outputs": [
    {
     "name": "stdout",
     "output_type": "stream",
     "text": [
      "accuracy at start 0.357541899441\n",
      "accuracy at end 0.810055865922\n"
     ]
    }
   ],
   "source": [
    "print \"accuracy at start\", accuracy(W_start, b_start)\n",
    "print \"accuracy at end\", accuracy(W_end, b_end)"
   ]
  },
  {
   "cell_type": "code",
   "execution_count": 8,
   "metadata": {
    "collapsed": false
   },
   "outputs": [
    {
     "name": "stdout",
     "output_type": "stream",
     "text": [
      "label-1 weights at start [ 0.02781265  0.04593169]\n",
      "label-1 weights at end [-0.11230977  0.07907695]\n"
     ]
    }
   ],
   "source": [
    "print \"label-1 weights at start\", W_start[1, :]\n",
    "print \"label-1 weights at end\", W_end[1, :]"
   ]
  },
  {
   "cell_type": "markdown",
   "metadata": {},
   "source": [
    "We notice that accuracy improved significantly by these adjustments. Note that the label-1 weight for Sex goes from the positive random value at the start to a negative value. The model has learned that the higher the value of this feature, the less likely that passenger would survive. This is indeed consistent with the data.\n",
    "\n",
    "We visualize how the label-1 weights change over time, changing from red to green with the number of steps."
   ]
  },
  {
   "cell_type": "code",
   "execution_count": 9,
   "metadata": {
    "collapsed": false
   },
   "outputs": [
    {
     "data": {
      "text/plain": [
       "(0.033952774255601538, 0.081688664602493466)"
      ]
     },
     "execution_count": 9,
     "metadata": {},
     "output_type": "execute_result"
    },
    {
     "data": {
      "image/png": "[encoded data removed]",
      "text/plain": [
       "<matplotlib.figure.Figure at 0x10a9b9bd0>"
      ]
     },
     "metadata": {},
     "output_type": "display_data"
    }
   ],
   "source": [
    "%matplotlib inline\n",
    "\n",
    "import matplotlib.pyplot as plt\n",
    "\n",
    "fig1 = plt.figure(figsize=(50,10))\n",
    "ax1 = plt.subplot(131)\n",
    "\n",
    "alphas = np.linspace(0, 1, 356)\n",
    "ones = np.ones(356)\n",
    "rgba_colors = np.zeros((712,4))\n",
    "rgba_colors[:, 0] = np.concatenate([ones, ones-alphas])\n",
    "rgba_colors[:, 1] = np.concatenate([alphas, ones])\n",
    "rgba_colors[:, 3] = np.ones(712)\n",
    "\n",
    "ax1.scatter(metrics[:, 0], metrics[:, 1], c=rgba_colors, edgecolor=rgba_colors)\n",
    "ax1.set_xlim([metrics[:, 0].min()-0.0025, metrics[:, 0].max()+0.0025])\n",
    "ax1.set_ylim([metrics[:, 1].min()-0.0025, metrics[:, 1].max()+0.0025])"
   ]
  }
 ],
 "metadata": {
  "kernelspec": {
   "display_name": "Python 2",
   "language": "python",
   "name": "python2"
  },
  "language_info": {
   "codemirror_mode": {
    "name": "ipython",
    "version": 2
   },
   "file_extension": ".py",
   "mimetype": "text/x-python",
   "name": "python",
   "nbconvert_exporter": "python",
   "pygments_lexer": "ipython2",
   "version": "2.7.10"
  }
 },
 "nbformat": 4,
 "nbformat_minor": 0
}
